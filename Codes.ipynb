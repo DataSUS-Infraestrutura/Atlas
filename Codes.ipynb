{
 "cells": [
  {
   "cell_type": "code",
   "execution_count": null,
   "metadata": {},
   "outputs": [],
   "source": []
  },
  {
   "cell_type": "code",
   "execution_count": null,
   "metadata": {},
   "outputs": [],
   "source": [
    "\n",
    "atlas_section.type.create_type(types=[\n",
    "    {\n",
    "      \"name\": TypeNames.DATASET_PROCESSING_LINEAGE,\n",
    "      \"description\": \"Representa um cojunto de arquivos de tabelas que passará pro um sequência de processos\",\n",
    "      \"superTypes\": [\"DataSet\"],\n",
    "      \"attributeDefs\": [\n",
    "        {\n",
    "          \"name\": \"files_interval\",\n",
    "          \"typeName\": f\"array<{TypeNames.TABLE_FILE}>\",\n",
    "          \"isOptional\": True,\n",
    "          \"isUnique\": False,\n",
    "          \"isIndexable\": False\n",
    "        },\n",
    "        {\n",
    "          \"name\": \"columns\",\n",
    "          \"typeName\": f\"array<{TypeNames.TABLE_COLUMN}>\",\n",
    "          \"isOptional\": True,\n",
    "          \"isUnique\": False,\n",
    "          \"isIndexable\": False   \n",
    "        },\n",
    "        {\n",
    "          \"name\": \"id\",\n",
    "          \"typeName\": f\"string\",\n",
    "          \"isOptional\": True,\n",
    "          \"isUnique\": True,\n",
    "          \"isIndexable\": False\n",
    "        }\n",
    "      ]\n",
    "    }\n",
    "])\n",
    "\n",
    "atlas_section.type.create_type(types=[\n",
    "    {\n",
    "      \"name\": TypeNames.DATASET_PROCESSING_LINEAGE_RESULT,\n",
    "      \"description\": \"Representa um resultado após um processo\",\n",
    "      \"superTypes\": [\"DataSet\"],\n",
    "      \"attributeDefs\": [\n",
    "        {\n",
    "          \"name\": \"files_interval\",\n",
    "          \"typeName\": f\"array<{TypeNames.ANUAL_TABLE}>\",\n",
    "          \"isOptional\": True,\n",
    "          \"isUnique\": False,\n",
    "          \"isIndexable\": False\n",
    "        },\n",
    "        {\n",
    "          \"name\": \"columns\",\n",
    "          \"typeName\": f\"array<{TypeNames.TABLE_COLUMN}>\",\n",
    "          \"isOptional\": True,\n",
    "          \"isUnique\": False,\n",
    "          \"isIndexable\": False   \n",
    "        }\n",
    "      ]\n",
    "    }\n",
    "])\n",
    "\n"
   ]
  },
  {
   "cell_type": "code",
   "execution_count": null,
   "metadata": {},
   "outputs": [],
   "source": []
  },
  {
   "cell_type": "code",
   "execution_count": null,
   "metadata": {},
   "outputs": [],
   "source": [
    "atlas_section.entity.update_entity_attributes_by_guid(\n",
    "    '8dbb2456-9fd6-4758-a578-afd42d16c0ec',\n",
    "    { 'acronymus': \"DO\", \"name\": \"Declaração de Obíto (DO)\" }\n",
    ")"
   ]
  },
  {
   "cell_type": "code",
   "execution_count": null,
   "metadata": {},
   "outputs": [],
   "source": []
  },
  {
   "cell_type": "code",
   "execution_count": null,
   "metadata": {},
   "outputs": [],
   "source": [
    "atlas_section.process.create_process_validation(\n",
    "    \"b4e7379b-ad1b-4a1e-930b-da70ba22e22d\",\n",
    "     process_entity={\n",
    "         \"typeName\": \"Process\",\n",
    "         \"attributes\": {\n",
    "             \"name\": \"Validar algo\",\n",
    "             \"description\": \"Teste\",\n",
    "             \"qualifiedName\": f\"PRC@{random_int}\"\n",
    "         }\n",
    "     }\n",
    ")"
   ]
  },
  {
   "cell_type": "code",
   "execution_count": null,
   "metadata": {},
   "outputs": [],
   "source": [
    "atlas_section.entity.create_entity_dt_table({\n",
    "    \"name\": \"APAC de Quimioterapia (AQ)\",\n",
    "    \"description\": \"Tabela de APAC de Quimioterapia\",\n",
    "    \"acronymus\": \"AQ\"\n",
    "}, \"SIA\")\n",
    "\n",
    "atlas_section.entity.create_entity_columns(\n",
    "    \"columns-AQ.csv\",\n",
    "    \"AQ\"\n",
    ")\n",
    "\n",
    "\n",
    "response_file = atlas_section.entity.create_entity_file_table({\n",
    "    \"name\": \"DO-Teste_2\",\n",
    "    \"description\": \"Tabela de DO de Test\",\n",
    "    \"extension\": \".oarquet\",\n",
    "    \"file_size\": \"16 MB\",\n",
    "    \"location\": \"/teste/teste/teste_2\",\n",
    "    \"state\": \"SP\",\n",
    "    \"total_lines\": 100_000,\n",
    "    \"year\": 2020,\n",
    "}, \"SIM\", \"DO2017\")"
   ]
  },
  {
   "cell_type": "code",
   "execution_count": null,
   "metadata": {},
   "outputs": [],
   "source": [
    "data = {}\n",
    "# Só aceitar no formato TTYYMM onde TT é a sigla da tabela, YY o ano e MM o mes\n",
    "atlas_section.lineage.create_lineage_table(\n",
    "    data,\n",
    "    \"AQ\"\n",
    ")"
   ]
  },
  {
   "cell_type": "code",
   "execution_count": null,
   "metadata": {},
   "outputs": [],
   "source": [
    "atlas_section.process.create_process_alter_column(\n",
    "    params_search= { 'table_acronymus': 'SIM', 'column_name': 'RACACOR' },\n",
    "    attribues_to_change={\n",
    "        \"domain\": \"Branca, Preta, Amarela, Parda, Indígena\",\n",
    "        'type': 'Char (10)',\n",
    "    }\n",
    ")"
   ]
  },
  {
   "cell_type": "code",
   "execution_count": null,
   "metadata": {},
   "outputs": [],
   "source": []
  }
 ],
 "metadata": {
  "kernelspec": {
   "display_name": "Python 3",
   "language": "python",
   "name": "python3"
  },
  "language_info": {
   "name": "python",
   "version": "3.11.5"
  }
 },
 "nbformat": 4,
 "nbformat_minor": 2
}
