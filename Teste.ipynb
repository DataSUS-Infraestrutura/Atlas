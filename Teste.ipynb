{
 "cells": [
  {
   "cell_type": "code",
   "execution_count": 18,
   "metadata": {},
   "outputs": [],
   "source": [
    "import pandas as pd \n",
    "\n",
    "df = pd.read_csv(\"columns-AQ.csv\")\n",
    "\n",
    "lista = list(df['name'])"
   ]
  },
  {
   "cell_type": "code",
   "execution_count": 9,
   "metadata": {},
   "outputs": [],
   "source": []
  },
  {
   "cell_type": "code",
   "execution_count": 21,
   "metadata": {},
   "outputs": [
    {
     "name": "stdout",
     "output_type": "stream",
     "text": [
      "{'AQ_MED05', 'AQ_MED08', 'AQ_MED10', 'AQ_MED07', 'AQ_MED03', 'AQ_MED04', 'AQ_MED06', 'AQ_MED02', 'AQ_MED01', 'AQ_MED09'}\n"
     ]
    }
   ],
   "source": [
    "seta = set()\n",
    "\n",
    "for i in data.values():\n",
    "    diff = set(i) - set(lista)\n",
    "\n",
    "    for j in diff:\n",
    "        seta.add(j) \n",
    "\n",
    "print(seta)"
   ]
  },
  {
   "cell_type": "code",
   "execution_count": 14,
   "metadata": {},
   "outputs": [
    {
     "name": "stdout",
     "output_type": "stream",
     "text": [
      "[\n",
      "  {\n",
      "    \"interval\": \"AQ0803-AQ1112\",\n",
      "    \"added\": [\n",
      "      \"AP_NATJUR\"\n",
      "    ],\n",
      "    \"removed\": []\n",
      "  },\n",
      "  {\n",
      "    \"interval\": \"AQ1112-AQ1201\",\n",
      "    \"added\": [],\n",
      "    \"removed\": [\n",
      "      \"AP_NATJUR\"\n",
      "    ]\n",
      "  },\n",
      "  {\n",
      "    \"interval\": \"AQ1201-AQ1410\",\n",
      "    \"added\": [\n",
      "      \"AP_NATJUR\"\n",
      "    ],\n",
      "    \"removed\": []\n",
      "  },\n",
      "  {\n",
      "    \"interval\": \"AQ1410-AQ1411\",\n",
      "    \"added\": [],\n",
      "    \"removed\": [\n",
      "      \"AP_NATJUR\"\n",
      "    ]\n",
      "  },\n",
      "  {\n",
      "    \"interval\": \"AQ1411-AQ1607\",\n",
      "    \"added\": [\n",
      "      \"AP_NATJUR\"\n",
      "    ],\n",
      "    \"removed\": []\n",
      "  },\n",
      "  {\n",
      "    \"interval\": \"AQ1607-AQ2101\",\n",
      "    \"added\": [\n",
      "      \"AQ_MED05\",\n",
      "      \"AQ_MED08\",\n",
      "      \"AQ_MED10\",\n",
      "      \"AQ_MED07\",\n",
      "      \"AQ_MED03\",\n",
      "      \"AQ_MED04\",\n",
      "      \"AQ_MED06\",\n",
      "      \"AQ_MED02\",\n",
      "      \"AQ_MED01\",\n",
      "      \"AQ_MED09\"\n",
      "    ],\n",
      "    \"removed\": []\n",
      "  }\n",
      "]\n"
     ]
    }
   ],
   "source": [
    "mudancas = detect_column_changes(data)\n",
    "\n",
    "import json\n",
    "\n",
    "print(json.dumps(mudancas, indent=2))\n"
   ]
  }
 ],
 "metadata": {
  "kernelspec": {
   "display_name": "Python 3",
   "language": "python",
   "name": "python3"
  },
  "language_info": {
   "codemirror_mode": {
    "name": "ipython",
    "version": 3
   },
   "file_extension": ".py",
   "mimetype": "text/x-python",
   "name": "python",
   "nbconvert_exporter": "python",
   "pygments_lexer": "ipython3",
   "version": "3.11.5"
  }
 },
 "nbformat": 4,
 "nbformat_minor": 2
}
