{
 "cells": [
  {
   "cell_type": "code",
   "execution_count": 1,
   "metadata": {},
   "outputs": [],
   "source": [
    "from apache_atlas.client.ApacheAtlas import ApacheAtlasClient\n",
    "\n",
    "atlas_section = ApacheAtlasClient(\n",
    "    \"http://localhost:21000\",\n",
    "    \"admin\",\n",
    "    \"admin\"\n",
    ")"
   ]
  },
  {
   "cell_type": "markdown",
   "metadata": {},
   "source": [
    "## Criação de Tabelas Anuais/Mensais"
   ]
  },
  {
   "cell_type": "code",
   "execution_count": 5,
   "metadata": {},
   "outputs": [
    {
     "name": "stdout",
     "output_type": "stream",
     "text": [
      "http://localhost:21000/api/atlas/v2/search/attribute?typeName=dt_table&attrName=acronymus&attrValuePrefix=PA&limit=1&offset=0\n",
      "http://localhost:21000/api/atlas/v2/entity/guid/4ea349cb-10de-4497-bcbd-ec29d16f6b5d\n"
     ]
    },
    {
     "ename": "KeyError",
     "evalue": "'PA_CIDPRI'",
     "output_type": "error",
     "traceback": [
      "\u001b[1;31m---------------------------------------------------------------------------\u001b[0m",
      "\u001b[1;31mKeyError\u001b[0m                                  Traceback (most recent call last)",
      "Cell \u001b[1;32mIn[5], line 8\u001b[0m\n\u001b[0;32m      4\u001b[0m     data \u001b[38;5;241m=\u001b[39m json\u001b[38;5;241m.\u001b[39mload(f)\n\u001b[0;32m      6\u001b[0m data \u001b[38;5;241m=\u001b[39m data[\u001b[38;5;124m'\u001b[39m\u001b[38;5;124mPA\u001b[39m\u001b[38;5;124m'\u001b[39m]\n\u001b[1;32m----> 8\u001b[0m \u001b[43matlas_section\u001b[49m\u001b[38;5;241;43m.\u001b[39;49m\u001b[43mlineage\u001b[49m\u001b[38;5;241;43m.\u001b[39;49m\u001b[43mcreate_lineage_table\u001b[49m\u001b[43m(\u001b[49m\u001b[43mdata\u001b[49m\u001b[43m,\u001b[49m\u001b[43m \u001b[49m\u001b[38;5;124;43m'\u001b[39;49m\u001b[38;5;124;43mPA\u001b[39;49m\u001b[38;5;124;43m'\u001b[39;49m\u001b[43m)\u001b[49m\n",
      "File \u001b[1;32mc:\\Users\\Arlete\\Desktop\\Meus Projetos\\ApacheAtlas\\apache_atlas\\client\\Lineage.py:82\u001b[0m, in \u001b[0;36mLineageClient.create_lineage_table\u001b[1;34m(self, data, table_acronymus)\u001b[0m\n\u001b[0;32m     79\u001b[0m month \u001b[38;5;241m=\u001b[39m lineage[\u001b[38;5;241m4\u001b[39m:]\n\u001b[0;32m     81\u001b[0m columns\u001b[38;5;241m.\u001b[39msort()\n\u001b[1;32m---> 82\u001b[0m columns_guid \u001b[38;5;241m=\u001b[39m \u001b[43m[\u001b[49m\u001b[43m{\u001b[49m\u001b[43m \u001b[49m\u001b[38;5;124;43m\"\u001b[39;49m\u001b[38;5;124;43mguid\u001b[39;49m\u001b[38;5;124;43m\"\u001b[39;49m\u001b[43m:\u001b[49m\u001b[43m \u001b[49m\u001b[43mguid_columns\u001b[49m\u001b[43m[\u001b[49m\u001b[43mcolumn\u001b[49m\u001b[43m]\u001b[49m\u001b[43m \u001b[49m\u001b[43m}\u001b[49m\u001b[43m \u001b[49m\u001b[38;5;28;43;01mfor\u001b[39;49;00m\u001b[43m \u001b[49m\u001b[43mcolumn\u001b[49m\u001b[43m \u001b[49m\u001b[38;5;129;43;01min\u001b[39;49;00m\u001b[43m \u001b[49m\u001b[43mcolumns\u001b[49m\u001b[43m]\u001b[49m\n\u001b[0;32m     84\u001b[0m int_year \u001b[38;5;241m=\u001b[39m \u001b[38;5;28mint\u001b[39m(year)\n\u001b[0;32m     86\u001b[0m entities_lineage\u001b[38;5;241m.\u001b[39mappend({\n\u001b[0;32m     87\u001b[0m     \u001b[38;5;124m\"\u001b[39m\u001b[38;5;124mtypeName\u001b[39m\u001b[38;5;124m\"\u001b[39m: \u001b[38;5;124mf\u001b[39m\u001b[38;5;124m\"\u001b[39m\u001b[38;5;132;01m{\u001b[39;00mTypeNames\u001b[38;5;241m.\u001b[39mMONTLY_TABLE\u001b[38;5;132;01m}\u001b[39;00m\u001b[38;5;124m\"\u001b[39m,\n\u001b[0;32m     88\u001b[0m     \u001b[38;5;124m\"\u001b[39m\u001b[38;5;124mqualifiedName\u001b[39m\u001b[38;5;124m\"\u001b[39m: \u001b[38;5;124mf\u001b[39m\u001b[38;5;124m\"\u001b[39m\u001b[38;5;132;01m{\u001b[39;00mTypeNames\u001b[38;5;241m.\u001b[39mMONTLY_TABLE\u001b[38;5;132;01m}\u001b[39;00m\u001b[38;5;124m.\u001b[39m\u001b[38;5;132;01m{\u001b[39;00mtable_name\u001b[38;5;132;01m}\u001b[39;00m\u001b[38;5;124m@\u001b[39m\u001b[38;5;132;01m{\u001b[39;00mlineage\u001b[38;5;132;01m}\u001b[39;00m\u001b[38;5;124m\"\u001b[39m,\n\u001b[1;32m   (...)\u001b[0m\n\u001b[0;32m    100\u001b[0m     }\n\u001b[0;32m    101\u001b[0m })\n",
      "File \u001b[1;32mc:\\Users\\Arlete\\Desktop\\Meus Projetos\\ApacheAtlas\\apache_atlas\\client\\Lineage.py:82\u001b[0m, in \u001b[0;36m<listcomp>\u001b[1;34m(.0)\u001b[0m\n\u001b[0;32m     79\u001b[0m month \u001b[38;5;241m=\u001b[39m lineage[\u001b[38;5;241m4\u001b[39m:]\n\u001b[0;32m     81\u001b[0m columns\u001b[38;5;241m.\u001b[39msort()\n\u001b[1;32m---> 82\u001b[0m columns_guid \u001b[38;5;241m=\u001b[39m [{ \u001b[38;5;124m\"\u001b[39m\u001b[38;5;124mguid\u001b[39m\u001b[38;5;124m\"\u001b[39m: \u001b[43mguid_columns\u001b[49m\u001b[43m[\u001b[49m\u001b[43mcolumn\u001b[49m\u001b[43m]\u001b[49m } \u001b[38;5;28;01mfor\u001b[39;00m column \u001b[38;5;129;01min\u001b[39;00m columns]\n\u001b[0;32m     84\u001b[0m int_year \u001b[38;5;241m=\u001b[39m \u001b[38;5;28mint\u001b[39m(year)\n\u001b[0;32m     86\u001b[0m entities_lineage\u001b[38;5;241m.\u001b[39mappend({\n\u001b[0;32m     87\u001b[0m     \u001b[38;5;124m\"\u001b[39m\u001b[38;5;124mtypeName\u001b[39m\u001b[38;5;124m\"\u001b[39m: \u001b[38;5;124mf\u001b[39m\u001b[38;5;124m\"\u001b[39m\u001b[38;5;132;01m{\u001b[39;00mTypeNames\u001b[38;5;241m.\u001b[39mMONTLY_TABLE\u001b[38;5;132;01m}\u001b[39;00m\u001b[38;5;124m\"\u001b[39m,\n\u001b[0;32m     88\u001b[0m     \u001b[38;5;124m\"\u001b[39m\u001b[38;5;124mqualifiedName\u001b[39m\u001b[38;5;124m\"\u001b[39m: \u001b[38;5;124mf\u001b[39m\u001b[38;5;124m\"\u001b[39m\u001b[38;5;132;01m{\u001b[39;00mTypeNames\u001b[38;5;241m.\u001b[39mMONTLY_TABLE\u001b[38;5;132;01m}\u001b[39;00m\u001b[38;5;124m.\u001b[39m\u001b[38;5;132;01m{\u001b[39;00mtable_name\u001b[38;5;132;01m}\u001b[39;00m\u001b[38;5;124m@\u001b[39m\u001b[38;5;132;01m{\u001b[39;00mlineage\u001b[38;5;132;01m}\u001b[39;00m\u001b[38;5;124m\"\u001b[39m,\n\u001b[1;32m   (...)\u001b[0m\n\u001b[0;32m    100\u001b[0m     }\n\u001b[0;32m    101\u001b[0m })\n",
      "\u001b[1;31mKeyError\u001b[0m: 'PA_CIDPRI'"
     ]
    }
   ],
   "source": [
    "import json\n",
    "\n",
    "with open('data/columns_lineage_sia.json', 'r', encoding='utf-8') as f:\n",
    "    data = json.load(f)\n",
    "\n",
    "data = data['PA']\n",
    "\n",
    "atlas_section.lineage.create_lineage_table(data, 'PA')"
   ]
  },
  {
   "cell_type": "markdown",
   "metadata": {},
   "source": [
    "## Criação das Tabelas"
   ]
  },
  {
   "cell_type": "code",
   "execution_count": null,
   "metadata": {},
   "outputs": [],
   "source": [
    "groups_sia ={\n",
    "    #'AB': 'APAC de Cirurgia Bariátrica',\n",
    "    'ABO': 'APAC de Acompanhamento Pós Cirurgia Bariátrica',\n",
    "    'ACF': 'APAC de Confecção de Fístula',\n",
    "    'AD': 'APAC de Laudos Diversos',\n",
    "    'AM': 'APAC de Medicamentos',\n",
    "    'AMP': 'APAC de Acompanhamento Multiprofissional',\n",
    "    'AN': 'APAC de Nefrologia',\n",
    "    'AQ': 'APAC de Quimioterapia',\n",
    "    'AR': 'APAC de Radioterapia',\n",
    "    'ATD': 'APAC de Tratamento Dialítico',\n",
    "    'BI': 'Boletim de Produção Ambulatorial individualizado',\n",
    "    'PA': 'Produção Ambulatorial',\n",
    "    'PS': 'RAAS Psicossocial',\n",
    "    'SAD': 'RAAS de Atenção Domiciliar'\n",
    "}\n",
    "\n",
    "for acronymus, name in groups_sia.items():\n",
    "    atlas_section.entity.create_entity_dt_table({\n",
    "       'name': f\"{name} ({acronymus})\",\n",
    "       'acronymus': acronymus,\n",
    "       'description': f'Tabela de {name} da SIA' \n",
    "    }, 'SIA')"
   ]
  },
  {
   "cell_type": "code",
   "execution_count": null,
   "metadata": {},
   "outputs": [],
   "source": [
    "atlas_section.entity.create_entity_columns(\"dicionarios/columns-AN.csv\", \"AN\")"
   ]
  }
 ],
 "metadata": {
  "kernelspec": {
   "display_name": "Python 3",
   "language": "python",
   "name": "python3"
  },
  "language_info": {
   "codemirror_mode": {
    "name": "ipython",
    "version": 3
   },
   "file_extension": ".py",
   "mimetype": "text/x-python",
   "name": "python",
   "nbconvert_exporter": "python",
   "pygments_lexer": "ipython3",
   "version": "3.11.5"
  }
 },
 "nbformat": 4,
 "nbformat_minor": 2
}
