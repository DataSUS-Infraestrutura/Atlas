{
 "cells": [
  {
   "cell_type": "code",
   "execution_count": 1,
   "metadata": {},
   "outputs": [],
   "source": [
    "import random\n",
    "import json\n",
    "import os\n",
    "from apache_atlas.utils.Constants import EndRelations, TypeNames\n",
    "from apache_atlas.utils.API import API, HTTPMethod\n",
    "from apache_atlas.client.ApacheAtlas import ApacheAtlasClient\n",
    "\n",
    "atlas_section = ApacheAtlasClient(\n",
    "    \"http://10.100.100.61:21000\",\n",
    "    \"admin\",\n",
    "    \"admin\"\n",
    ")"
   ]
  },
  {
   "cell_type": "markdown",
   "metadata": {},
   "source": [
    "### Criação das Tabelas"
   ]
  },
  {
   "cell_type": "code",
   "execution_count": null,
   "metadata": {},
   "outputs": [],
   "source": [
    "# Executado...\n",
    "\n",
    "groups_sia ={\n",
    "    #'AB': 'APAC de Cirurgia Bariátrica',\n",
    "    'ABO': 'APAC de Acompanhamento Pós Cirurgia Bariátrica',\n",
    "    'ACF': 'APAC de Confecção de Fístula',\n",
    "    'AD': 'APAC de Laudos Diversos',\n",
    "    'AM': 'APAC de Medicamentos',\n",
    "    'AMP': 'APAC de Acompanhamento Multiprofissional',\n",
    "    'AN': 'APAC de Nefrologia',\n",
    "    'AQ': 'APAC de Quimioterapia',\n",
    "    'AR': 'APAC de Radioterapia',\n",
    "    'ATD': 'APAC de Tratamento Dialítico',\n",
    "    'BI': 'Boletim de Produção Ambulatorial individualizado',\n",
    "    'PA': 'Produção Ambulatorial',\n",
    "    'PS': 'RAAS Psicossocial',\n",
    "    'SAD': 'RAAS de Atenção Domiciliar'\n",
    "}\n",
    "\n",
    "for acronymus, name in groups_sia.items():\n",
    "    atlas_section.entity.create_entity_dt_table({\n",
    "       'name': f\"{name} ({acronymus})\",\n",
    "       'acronymus': acronymus,\n",
    "       'description': f'Tabela de {name} da SIA' \n",
    "    }, 'SIA')"
   ]
  },
  {
   "cell_type": "markdown",
   "metadata": {},
   "source": [
    "### Criação de Colunas"
   ]
  },
  {
   "cell_type": "code",
   "execution_count": null,
   "metadata": {},
   "outputs": [],
   "source": [
    "# Executado...\n",
    "\n",
    "import json\n",
    "import os\n",
    "\n",
    "pasta = 'dicionarios'\n",
    "\n",
    "for arquivo in os.listdir(pasta):\n",
    "    sigla = arquivo.split('-')[1].split('.')[0]\n",
    "    caminho_dict = os.path.join(pasta, arquivo)\n",
    "\n",
    "    atlas_section.entity.create_entity_columns(caminho_dict, sigla)"
   ]
  },
  {
   "cell_type": "markdown",
   "metadata": {},
   "source": [
    "### Criação de Tabelas Anuais/Mensais"
   ]
  },
  {
   "cell_type": "code",
   "execution_count": null,
   "metadata": {},
   "outputs": [],
   "source": [
    "# Executado...\n",
    "\n",
    "atlas_section.type.create_type([\n",
    "   {\n",
    "      \"name\": TypeNames.MONTLY_TABLE,\n",
    "      \"description\": \"Representa uma tabela em um mês específico\",\n",
    "      \"superTypes\": [TypeNames.ANUAL_TABLE],\n",
    "      \"attributeDefs\": [\n",
    "        {\n",
    "          \"name\": \"month\",\n",
    "          \"typeName\": \"int\",\n",
    "          \"isOptional\": True,\n",
    "          \"isUnique\": False,\n",
    "          \"isIndexable\": False\n",
    "        }\n",
    "      ]\n",
    "    },\n",
    "])\n",
    "\n",
    "atlas_section.type.create_type(relationshipDefs=[\n",
    "    {\n",
    "    \"name\": \"rsh_table_to_columns_time\",\n",
    "    \"relationshipCategory\": \"AGGREGATION\",\n",
    "    \"propagateTags\": \"NONE\",\n",
    "    \"endDef1\": {\n",
    "        \"type\": TypeNames.TABLE,\n",
    "        \"name\": EndRelations.END_TABLE_TO_COLUMNS_TIME[0],\n",
    "        \"cardinality\": \"SET\",\n",
    "        \"isContainer\": True,\n",
    "        \"isLegacyAttribute\": False\n",
    "    },\n",
    "    \"endDef2\": {\n",
    "        \"type\": TypeNames.ANUAL_TABLE,\n",
    "        \"name\": EndRelations.END_TABLE_TO_COLUMNS_TIME[1],\n",
    "        \"cardinality\": \"SINGLE\",\n",
    "        \"isContainer\": False,\n",
    "        \"isLegacyAttribute\": False\n",
    "    }\n",
    "}, \n",
    "])\n"
   ]
  },
  {
   "cell_type": "code",
   "execution_count": null,
   "metadata": {},
   "outputs": [],
   "source": [
    "# Executado ...\n",
    "\n",
    "url = atlas_section.search.SEARCH_BY_TYPENAME.format_path({\n",
    "    'typeName': TypeNames.ANUAL_TABLE\n",
    "})\n",
    "\n",
    "response = atlas_section.request(url)\n",
    "\n",
    "filters = list(filter(\n",
    "    lambda x: x['attributes']['name'].startswith(\"DO\"),\n",
    "    response['entities']\n",
    ")) \n",
    "\n",
    "table = atlas_section.search.search_table_by_acronymus(\"DO\")\n",
    "\n",
    "for i in filters:\n",
    "    i['attributes'][EndRelations.END_TABLE_TO_COLUMNS_TIME[1]] = {\n",
    "        'guid': table['guid']\n",
    "    }\n",
    "\n",
    "atlas_section.entity.create_multiple_entities(filters)"
   ]
  },
  {
   "cell_type": "code",
   "execution_count": null,
   "metadata": {},
   "outputs": [
    {
     "name": "stdout",
     "output_type": "stream",
     "text": [
      "http://10.100.100.61:21000/api/atlas/v2/search/attribute?typeName=dt_table&attrName=acronymus&attrValuePrefix=PA&limit=1&offset=0\n",
      "http://10.100.100.61:21000/api/atlas/v2/entity/guid/395ad198-2dfc-43bf-8598-09b5076c504c\n",
      "http://10.100.100.61:21000/api/atlas/v2/entity/bulk\n"
     ]
    }
   ],
   "source": [
    "# Executado apenas para o SIA\n",
    "# Deu problema no AM (AM Altura), AR sei lá oq\n",
    "\n",
    "import os\n",
    "import json\n",
    "\n",
    "pasta = 'data'\n",
    "\n",
    "for arquivo in os.listdir(pasta):\n",
    "    if arquivo.endswith('sia.json'):\n",
    "        caminho_arquivo = os.path.join(pasta, arquivo)\n",
    "\n",
    "        with open(caminho_arquivo, 'r', encoding='utf-8') as f:\n",
    "            dados_json = json.load(f)\n",
    "        \n",
    "        for acronymus, lineage in dados_json.items():\n",
    "            atlas_section.lineage.create_lineage_table(lineage, acronymus)"
   ]
  },
  {
   "cell_type": "code",
   "execution_count": null,
   "metadata": {},
   "outputs": [],
   "source": [
    "# Executado...\n",
    "\n",
    "atlas_section.entity.create_database_entity({\n",
    "    'name': 'Database de Tabelas',\n",
    "    'description': 'Database apenas para agrupar determinadas tabelas (Ignorar)',\n",
    "    'acronymus': TypeNames.ACRONYMUS_DATABASE_DTC\n",
    "}, \"DataSUS\")\n",
    "\n",
    "atlas_section.entity.create_entity_dt_table({\n",
    "    \"name\": \"Tabela de Colunas\",\n",
    "    \"description\": \"Tabela de referência para colunas/arquivos alterados por processos (Ignorar)\",\n",
    "    \"acronymus\": TypeNames.ACRONYMUS_TABLE_DTC\n",
    "}, f\"{TypeNames.ACRONYMUS_DATABASE_DTC}\")"
   ]
  }
 ],
 "metadata": {
  "kernelspec": {
   "display_name": "Python 3",
   "language": "python",
   "name": "python3"
  },
  "language_info": {
   "codemirror_mode": {
    "name": "ipython",
    "version": 3
   },
   "file_extension": ".py",
   "mimetype": "text/x-python",
   "name": "python",
   "nbconvert_exporter": "python",
   "pygments_lexer": "ipython3",
   "version": "3.11.5"
  }
 },
 "nbformat": 4,
 "nbformat_minor": 2
}
